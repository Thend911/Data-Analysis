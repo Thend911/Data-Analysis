{
 "cells": [
  {
   "cell_type": "markdown",
   "id": "8a09d9ed-d59d-40b2-9b34-4df3f63c6d8f",
   "metadata": {},
   "source": [
    "\n",
    "# YouTube Video Data Analysis: Complete Step-by-Step Guide\n",
    "## A Comprehensive Data Cleaning and Data Analysis Workflow\n",
    "\n",
    "This notebook provides a complete walkthrough of analyzing trending video data, covering:\n",
    "1. Data loading and cleaning\n",
    "2. Feature engineering\n",
    "3. Exploratory data analysis\n",
    "4. Statistical testing\n",
    "5. Country-specific insights\n",
    "\n",
    "**Dataset**: There are two dataset provided: *USvideos.csv* and *GBvideos.csv*\n",
    "\n",
    "\n",
    "## Step 1: Environment Setup (complete one step in this step)\n",
    "First, we'll import all necessary libraries and configure our environment. You might need the following packages:\n",
    "1. numpy\n",
    "2. pandas\n",
    "3. matplotlib.pyplot\n",
    "4. seaborn (as sns)\n",
    "5. glob\n",
    "6. datetime\n",
    "7. scipy\n",
    "\n",
    "Configuration packages/settings:\n",
    "\n",
    "9. %matplotlib inline (IPython magic command)\n",
    "10. sns.set() (Seaborn configuration)\n",
    "11. pd.set_option() (Pandas display options)"
   ]
  },
  {
   "cell_type": "code",
   "execution_count": null,
   "id": "cf636087-f9ce-4fa0-b38f-e960b41aac6f",
   "metadata": {},
   "outputs": [],
   "source": [
    "# step 1: import all modules\n",
    "\n",
    "#------- complete the step-------------\n",
    "\n",
    "\n",
    "#------- complete the step-------------\n",
    "\n",
    "# Configuration\n",
    "%matplotlib inline\n",
    "sns.set(style='whitegrid', palette='muted')\n",
    "pd.set_option('display.max_columns', 100)\n",
    "pd.set_option('display.max_rows', 100)\n",
    "pd.options.mode.chained_assignment = None\n",
    "\n",
    "print(\"Environment setup complete!\")"
   ]
  },
  {
   "cell_type": "markdown",
   "id": "6bd3380c-fe8c-4f0a-a684-04bd7137ded1",
   "metadata": {},
   "source": [
    "## Step 2: Data Loading (complete two steps in this step)\n",
    "We'll load all US videos CSV files and GB videos; and combine them into a single dataframe with country identifiers."
   ]
  },
  {
   "cell_type": "code",
   "execution_count": null,
   "id": "ba63cebe-dd5c-46dd-b317-949dca914f59",
   "metadata": {},
   "outputs": [],
   "source": [
    "# step 1: read all csv files into list and assign to csv_files\n",
    "#------- complete the step-------------\n",
    "\n",
    "\n",
    "#------- complete the step-------------\n",
    "print(f\"Found {len(csv_files)} CSV files\")\n",
    "\n",
    "# Load each CSV with country code\n",
    "dataframes = []\n",
    "\n",
    "# step 2: read csv files into dataframe and append dataframe into dataframes\n",
    "for file in csv_files:\n",
    "    # Extract country code from filename and assign t country_code\n",
    "    #------- complete the step-------------\n",
    "\n",
    "\n",
    "    #------- complete the step-------------\n",
    "    print(country_code)\n",
    "    \n",
    "    # read file to dataframe\n",
    "    #------- complete the step-------------\n",
    "\n",
    "\n",
    "    #------- complete the step-------------\n",
    "\n",
    "    # adding a new column to the DataFrame (df) that identifies the country\n",
    "    #------- complete the step-------------\n",
    "\n",
    "\n",
    "    #------- complete the step-------------\n",
    "      \n",
    "    dataframes.append(df)\n",
    "    \n",
    "# Verify loading\n",
    "print(\"\\nSample data from first dataframe:\")\n",
    "display(dataframes[0].head(2))"
   ]
  },
  {
   "cell_type": "markdown",
   "id": "8797134e-01ec-4121-89ec-703d8afd4d46",
   "metadata": {},
   "source": [
    "## Step 3: Data Cleaning (complete one function in this step)\n",
    "We'll clean and standardize data types across all dataframes."
   ]
  },
  {
   "cell_type": "code",
   "execution_count": null,
   "id": "4c3a1c7c-8cdb-46b0-90ec-72eaa2a66d93",
   "metadata": {},
   "outputs": [],
   "source": [
    "\n",
    "\"\"\"\n",
    "Step 1: define a function clean_dataframe takes a dataframe parameter. \n",
    "        the function will convert columns : ['video_id', 'title', 'channel_title', 'category_id', 'tags', 'thumbnail_link']\n",
    "        into string, and handling missing Tags\n",
    "\"\"\"  \n",
    "def clean_dataframe(df):\n",
    "    \"\"\"Clean and standardize a single dataframe\"\"\"\n",
    "    \n",
    "    pass\n",
    "\n",
    "# Clean all dataframes\n",
    "cleaned_dataframes = [clean_dataframe(df) for df in dataframes]\n",
    "\n",
    "# Verify cleaning\n",
    "print(\"\\nData types after cleaning:\")\n",
    "display(cleaned_dataframes[0].dtypes)\n"
   ]
  },
  {
   "cell_type": "markdown",
   "id": "d788fdb1-3f3e-47f5-8b61-41e1acca23ad",
   "metadata": {},
   "source": [
    "## Step 4: Missing Value Analysis (complete one function in this step)\n",
    "We'll identify and handle any missing values in our dataset."
   ]
  },
  {
   "cell_type": "code",
   "execution_count": null,
   "id": "9319101d-6a4d-4c5b-ac46-61d330971b71",
   "metadata": {},
   "outputs": [],
   "source": [
    "\"\"\"\n",
    "Step 1: define a function analyze_missing_data\n",
    "        the function returns a missing report that contains country code, missing count and missing percent\n",
    "\"\"\"\n",
    "\n",
    "def analyze_missing_data(df_list, country_codes):\n",
    "    \"\"\"Analyze missing values across all dataframes\"\"\"\n",
    "    pass\n",
    "\n",
    "# defines a list contains all conuntry code.\n",
    "\n",
    "missing_report = analyze_missing_data(cleaned_dataframes, country_codes)\n",
    "\n",
    "# Display results\n",
    "print(\"Missing value summary:\")\n",
    "print(missing_report[missing_report['missing_count'] > 0])\n",
    "display(missing_report[missing_report['missing_count'] > 0])\n"
   ]
  },
  {
   "cell_type": "markdown",
   "id": "bee81733-cb55-4f20-99cf-0adddf1c9b08",
   "metadata": {},
   "source": [
    "## Step 5: Data Integration (complete five steps in this step)\n",
    "Combine all country dataframes into one unified dataset."
   ]
  },
  {
   "cell_type": "code",
   "execution_count": null,
   "id": "59cf8f77-7b70-4e87-bea5-1a38b33335fa",
   "metadata": {},
   "outputs": [],
   "source": [
    "# Step 1: Combine all dataframes\n",
    "#------- complete the step-------------\n",
    "\n",
    "\n",
    "#------- complete the step-------------\n",
    "\n",
    "# Step 2: Create backup before deduplication\n",
    "#------- complete the step-------------\n",
    "\n",
    "\n",
    "#------- complete the step-------------\n",
    "\n",
    "# Step 3: Remove duplicate videos (keeping first occurrence) by video_id\n",
    "#------- complete the step-------------\n",
    "\n",
    "\n",
    "#------- complete the step-------------\n",
    "\n",
    "# Step 4: Set video_id as index\n",
    "#------- complete the step-------------\n",
    "\n",
    "\n",
    "#------- complete the step-------------\n",
    "\n",
    "# Final dataset info\n",
    "print(\"\\nCombined dataset information:\")\n",
    "print(f\"Total videos: {len(combined_df)}\")\n",
    "print(f\"Countries: {combined_df['country'].unique().tolist()}\")\n"
   ]
  },
  {
   "cell_type": "markdown",
   "id": "b4ebe25d-3cfe-4546-8355-476643cdddde",
   "metadata": {},
   "source": [
    "## Step 6: Feature Engineering (complete six steps in this step)\n",
    "Create new features to enhance our analysis."
   ]
  },
  {
   "cell_type": "code",
   "execution_count": null,
   "id": "cbc5f39d-ba13-4272-b206-096f709524c6",
   "metadata": {},
   "outputs": [],
   "source": [
    "\n",
    "# Engagement metrics\n",
    "# Step 1: add a column named 'like_ratio', computed as likes/dislikes\n",
    "#------- complete the step-------------\n",
    "\n",
    "\n",
    "#------- complete the step-------------\n",
    "\n",
    "# Step 2: add a column named 'engagement_rate', computed as (likes + dislikes + comment_total)/views\n",
    "#------- complete the step-------------\n",
    "\n",
    "\n",
    "#------- complete the step-------------\n",
    "\n",
    "\n",
    "# Text features\n",
    "# Step 3: add a column named 'title_length', computed as length of title\n",
    "#------- complete the step-------------\n",
    "\n",
    "\n",
    "#------- complete the step-------------\n",
    "\n",
    "# Step 4: add a column named 'title_word_count', computed as number of words in title\n",
    "#------- complete the step-------------\n",
    "\n",
    "\n",
    "#------- complete the step-------------\n",
    "\n",
    "# Step 5: add a column named 'title_has_exclamation', computed as bool value (you can make it 0 or 1) of if title contains exclamation mark\n",
    "#------- complete the step-------------\n",
    "\n",
    "\n",
    "#------- complete the step-------------\n",
    "\n",
    "# Tag analysis\n",
    "# Step 6: add a column named 'tags_count', computed as number of tags \n",
    "#------- complete the step-------------\n",
    "\n",
    "\n",
    "#------- complete the step-------------\n",
    "\n",
    "\n",
    "\n",
    "# Display new features\n",
    "print(\"\\nNew features created:\")\n",
    "display(combined_df[['like_ratio', 'engagement_rate', \n",
    "                    'title_length', 'tags_count']].describe())"
   ]
  },
  {
   "cell_type": "markdown",
   "id": "aa49aeed-c561-4db0-86bc-040ffc23ae12",
   "metadata": {},
   "source": [
    "## Step 7: Exploratory Data Analysis (complete two steps in this step)\n",
    "Now we'll explore our dataset through visualizations and summary statistics."
   ]
  },
  {
   "cell_type": "code",
   "execution_count": null,
   "id": "155c4684-230d-4248-b6cc-c3fb3efa98a7",
   "metadata": {},
   "outputs": [],
   "source": [
    "# Set up the figure\n",
    "plt.figure(figsize=(18, 12))\n",
    "\n",
    "\n",
    "\n",
    "# Plot 1: Views vs. Likes\n",
    "# Step 1: make a dot plot shows views and likes. Take 1000 sample from all countries. x-axis will be views and y-axies will be views.\n",
    "#         using different colors indicate different country. Add legend and plot title.\n",
    "\n",
    "#------- complete the step-------------\n",
    "\n",
    "\n",
    "#------- complete the step-------------\n",
    "\n",
    "# Plot 2: Engagement Rate by Country\n",
    "# Step 2: make a box plot shows different country engagement_rate\n",
    "\n",
    "plt.tight_layout()\n",
    "plt.show()"
   ]
  },
  {
   "cell_type": "markdown",
   "id": "8111cb51-6a00-4abd-a425-8b4df1735fae",
   "metadata": {},
   "source": [
    "## Step 8: Country-Specific Analysis (complete one function in this step)\n",
    "We'll examine trends and patterns for individual countries."
   ]
  },
  {
   "cell_type": "code",
   "execution_count": null,
   "id": "ac0fb26f-2749-410f-81ad-57c64317f1e7",
   "metadata": {},
   "outputs": [],
   "source": [
    "\n",
    "# Step 1: define a function that makes bar plot of country's top 5 category's views\n",
    "\n",
    "def analyze_country(df, country_code):\n",
    "    \"\"\"Generate country-specific analysis\"\"\"\n",
    "\n",
    "    #------- complete the step-------------\n",
    "\n",
    "\n",
    "    #------- complete the step-------------\n",
    "    pass\n",
    "\n",
    "# Analyze sample countries\n",
    "for country in ['US', 'GB']:\n",
    "    analyze_country(combined_df, country)"
   ]
  },
  {
   "cell_type": "markdown",
   "id": "6fcce40d-ab82-4691-b598-5bdc91bd8b23",
   "metadata": {},
   "source": [
    "## Step 9: Advanced Insights (complete one step in this step)\n",
    "We'll extract deeper insights through more sophisticated analysis."
   ]
  },
  {
   "cell_type": "code",
   "execution_count": null,
   "id": "0d4a30a7-fc52-43ff-93c7-fe2313ffb7bb",
   "metadata": {},
   "outputs": [],
   "source": [
    "# Step 1: can you think of a analysis and visualize it?\n"
   ]
  },
  {
   "cell_type": "markdown",
   "id": "9cc45a0e-b80f-45a1-9223-a49c12c168d8",
   "metadata": {},
   "source": [
    "## Step 10: Saving Results\n",
    "Finally, we'll save our cleaned data and visualizations."
   ]
  },
  {
   "cell_type": "code",
   "execution_count": null,
   "id": "8e0f163e-5187-4b81-a3c8-6360bb1957be",
   "metadata": {},
   "outputs": [],
   "source": [
    "# Step 1: Save cleaned data into csv file\n",
    "#------- complete the step-------------\n",
    "\n",
    "\n",
    "#------- complete the step-------------\n",
    "\n",
    "print(\"Saved cleaned data to 'cleaned_youtube_trending_data.csv'\")\n",
    "\n",
    "# Step 2: Save top 5 globa category bar plot visualizations\n",
    "#------- complete the step-------------\n",
    "\n",
    "\n",
    "#------- complete the step-------------\n",
    "\n",
    "print(\"Saved visualization to 'top_categories.png'\")\n"
   ]
  },
  {
   "cell_type": "code",
   "execution_count": null,
   "id": "77129ec9-b17d-4aef-8920-96b39dcaf157",
   "metadata": {},
   "outputs": [],
   "source": []
  }
 ],
 "metadata": {
  "kernelspec": {
   "display_name": "Python 3 (ipykernel)",
   "language": "python",
   "name": "python3"
  },
  "language_info": {
   "codemirror_mode": {
    "name": "ipython",
    "version": 3
   },
   "file_extension": ".py",
   "mimetype": "text/x-python",
   "name": "python",
   "nbconvert_exporter": "python",
   "pygments_lexer": "ipython3",
   "version": "3.12.9"
  }
 },
 "nbformat": 4,
 "nbformat_minor": 5
}
