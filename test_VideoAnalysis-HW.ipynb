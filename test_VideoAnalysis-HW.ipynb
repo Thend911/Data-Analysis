import unittest
import pandas as pd
import numpy as np
from DataAnalysis.VideoAnalysis_HW import plt, numpy, df

# Test file: Data-Analysis/test_VideoAnalysis-HW.ipynb

import matplotlib.pyplot as plt

class TestDoubleBarChart(unittest.TestCase):
    def setUp(self):
        # Create a mock dataset similar to the original
        self.mock_data = pd.DataFrame({
            'category': ['A', 'B', 'A', 'C', 'B', 'C', 'A', 'B', 'C', 'A'],
            'country': ['US', 'US', 'GB', 'GB', 'US', 'GB', 'US', 'GB', 'US', 'GB']
        })

    def test_category_counts(self):
        # Calculate category counts for US and GB
        cats = self.mock_data['category'].unique().tolist()
        US_category = self.mock_data[self.mock_data["country"] == 'US']
        GB_category = self.mock_data[self.mock_data["country"] == 'GB']

        US_counts = US_category['category'].value_counts().reindex(cats, fill_value=0)
        GB_counts = GB_category['category'].value_counts().reindex(cats, fill_value=0)

        # Assert counts are correct
        self.assertEqual(US_counts['A'], 2)
        self.assertEqual(US_counts['B'], 2)
        self.assertEqual(US_counts['C'], 1)
        self.assertEqual(GB_counts['A'], 2)
        self.assertEqual(GB_counts['B'], 1)
        self.assertEqual(GB_counts['C'], 2)

    def test_plot_creation(self):
        # Generate the plot
        cats = self.mock_data['category'].unique().tolist()
        US_category = self.mock_data[self.mock_data["country"] == 'US']
        GB_category = self.mock_data[self.mock_data["country"] == 'GB']

        w, x = 0.4, np.arange(len(cats))
        US_counts = np.log(US_category['category'].value_counts().reindex(cats, fill_value=0) + 1)
        GB_counts = np.log(GB_category['category'].value_counts().reindex(cats, fill_value=0) + 1)

        fig, ax = plt.subplots(figsize=(18, 8))
        ax.bar(x - w/2, US_counts.values, width=w, label='US')
        ax.bar(x + w/2, GB_counts.values, width=w, label='GB')
        ax.set_xticks(x)
        ax.set_xticklabels(cats)
        ax.set_ylabel('Number of videos (log scale)')
        ax.set_title('Popular Category in US vs GB')
        ax.legend()

        # Assert the plot has the correct number of bars
        self.assertEqual(len(ax.patches), len(cats) * 2)  # Two bars per category

if __name__ == '__main__':
    unittest.main(argv=[''], exit=False)